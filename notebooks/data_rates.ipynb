{
 "cells": [
  {
   "cell_type": "markdown",
   "id": "91a4cd50",
   "metadata": {},
   "source": [
    "# Run the next cell only once to set the working directory to the project root and import necessary functions"
   ]
  },
  {
   "cell_type": "code",
   "execution_count": 1,
   "id": "83a00f2e",
   "metadata": {},
   "outputs": [],
   "source": [
    "import os\n",
    "os.chdir(os.path.join(os.getcwd(), '..'))\n",
    "\n",
    "from data.data_rates import data_rate, total_data_volume"
   ]
  },
  {
   "cell_type": "markdown",
   "id": "4396cc7f",
   "metadata": {},
   "source": [
    "# Define parameters"
   ]
  },
  {
   "cell_type": "code",
   "execution_count": null,
   "id": "dc06fcd0",
   "metadata": {},
   "outputs": [],
   "source": [
    "# Define parameters\n",
    "SAMPLES_PER_SECOND = 10e6 # NEED TO ASK\n",
    "BYTES_PER_C_SAMPLE = 8 # This is correct (np.complex64)\n",
    "NUMBER_OF_CHANNELS = 1 # We assume 1\n",
    "NUMBER_OF_ANTENNAS = 9\n",
    "FFT_SIZE=1024 # NEED TO ASK (maybe)\n",
    "\n",
    "# Integration time in seconds\n",
    "INTEGRATION_TIME = 10  # in seconds\n",
    "\n",
    "# Hour, data, and minute in seconds\n",
    "HOUR_IN_SECONDS = 3600\n",
    "MINUTE_IN_SECONDS = 60\n",
    "\n",
    "# Units\n",
    "UNIT = \"gb\""
   ]
  },
  {
   "cell_type": "markdown",
   "id": "6549c4d0",
   "metadata": {},
   "source": [
    "# Calculations"
   ]
  },
  {
   "cell_type": "code",
   "execution_count": 5,
   "id": "24b5f2ee",
   "metadata": {},
   "outputs": [
    {
     "name": "stdout",
     "output_type": "stream",
     "text": [
      "Data Rate: 0.67 gb/s\n",
      "Data Rate in Gb/s: 0.67 gb/s\n",
      "Total Data Volume for 1 hour with integration time 10 seconds: 8.90 gb\n"
     ]
    }
   ],
   "source": [
    "rate = data_rate(\n",
    "        samples_per_second=SAMPLES_PER_SECOND,\n",
    "        bytes_per_c_sample=BYTES_PER_C_SAMPLE,\n",
    "        number_of_channels=NUMBER_OF_CHANNELS,\n",
    "        number_of_antennas=NUMBER_OF_ANTENNAS,\n",
    "        unit=f\"{UNIT}/s\"\n",
    "    )\n",
    "\n",
    "data_volume = total_data_volume(\n",
    "    observation_time=HOUR_IN_SECONDS,\n",
    "    bytes_per_c_sample=BYTES_PER_C_SAMPLE,\n",
    "    fft_size=FFT_SIZE,\n",
    "    number_of_antennas=NUMBER_OF_ANTENNAS,\n",
    "    number_of_channels=NUMBER_OF_CHANNELS,\n",
    "    integration_time=INTEGRATION_TIME,\n",
    "    unit=UNIT\n",
    ")\n",
    "\n",
    "print(f\"Data Rate: {rate}\")\n",
    "print(f\"Data Rate in Gb/s: {rate}\")\n",
    "print(\n",
    "    f\"Total Data Volume for 1 hour\"\n",
    "    f\" with integration time {INTEGRATION_TIME} seconds: {data_volume}\"\n",
    ")"
   ]
  }
 ],
 "metadata": {
  "kernelspec": {
   "display_name": "RadioAstro",
   "language": "python",
   "name": "python3"
  },
  "language_info": {
   "codemirror_mode": {
    "name": "ipython",
    "version": 3
   },
   "file_extension": ".py",
   "mimetype": "text/x-python",
   "name": "python",
   "nbconvert_exporter": "python",
   "pygments_lexer": "ipython3",
   "version": "3.9.21"
  }
 },
 "nbformat": 4,
 "nbformat_minor": 5
}

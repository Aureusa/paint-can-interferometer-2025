{
 "cells": [
  {
   "cell_type": "markdown",
   "id": "91a4cd50",
   "metadata": {},
   "source": [
    "# Run the next cell only once to set the working directory to the project root and import necessary functions"
   ]
  },
  {
   "cell_type": "code",
   "execution_count": 1,
   "id": "83a00f2e",
   "metadata": {},
   "outputs": [],
   "source": [
    "import os\n",
    "os.chdir(os.path.join(os.getcwd(), '..'))\n",
    "\n",
    "from data.data_rates import data_rate, total_data_volume"
   ]
  },
  {
   "cell_type": "markdown",
   "id": "4396cc7f",
   "metadata": {},
   "source": [
    "# Define parameters"
   ]
  },
  {
   "cell_type": "code",
   "execution_count": null,
   "id": "dc06fcd0",
   "metadata": {},
   "outputs": [],
   "source": [
    "# Define parameters\n",
    "SAMPLES_PER_SECOND = 1e6\n",
    "BYTES_PER_C_SAMPLE = 4\n",
    "NUMBER_OF_CHANNELS = 128\n",
    "NUMBER_OF_ANTENNAS = 9\n",
    "\n",
    "# Define observation time and unit\n",
    "OBSERVATION_TIME_SECONDS = 3600  # 1 hour\n",
    "UNIT = \"mb\""
   ]
  },
  {
   "cell_type": "markdown",
   "id": "6549c4d0",
   "metadata": {},
   "source": [
    "# Do calculations"
   ]
  },
  {
   "cell_type": "code",
   "execution_count": null,
   "id": "24b5f2ee",
   "metadata": {},
   "outputs": [
    {
     "name": "stdout",
     "output_type": "stream",
     "text": [
      "Data Rate: 4394.53 mb/s\n",
      "Data Rate in Gb/s: 4.29 gb/s\n",
      "Total Data Volume for 1 hour: 15449.52 gb\n"
     ]
    }
   ],
   "source": [
    "rate = data_rate(\n",
    "        samples_per_second=SAMPLES_PER_SECOND,\n",
    "        bytes_per_c_sample=BYTES_PER_C_SAMPLE,\n",
    "        number_of_channels=NUMBER_OF_CHANNELS,\n",
    "        number_of_antennas=NUMBER_OF_ANTENNAS,\n",
    "        unit=f\"{UNIT}/s\"\n",
    "    )\n",
    "\n",
    "data_volume = total_data_volume(\n",
    "    data_rate=rate,\n",
    "    observation_time=OBSERVATION_TIME_SECONDS,\n",
    "    unit=UNIT\n",
    ")\n",
    "\n",
    "print(f\"Data Rate: {rate}\")\n",
    "print(f\"Data Rate in Gb/s: {rate.to('gb/s')}\")\n",
    "print(f\"Total Data Volume for 1 hour: {data_volume.to('gb')}\")"
   ]
  }
 ],
 "metadata": {
  "kernelspec": {
   "display_name": "RadioAstro",
   "language": "python",
   "name": "python3"
  },
  "language_info": {
   "codemirror_mode": {
    "name": "ipython",
    "version": 3
   },
   "file_extension": ".py",
   "mimetype": "text/x-python",
   "name": "python",
   "nbconvert_exporter": "python",
   "pygments_lexer": "ipython3",
   "version": "3.9.21"
  }
 },
 "nbformat": 4,
 "nbformat_minor": 5
}
